{
  "nbformat": 4,
  "nbformat_minor": 0,
  "metadata": {
    "colab": {
      "provenance": []
    },
    "kernelspec": {
      "name": "python3",
      "display_name": "Python 3"
    },
    "language_info": {
      "name": "python"
    }
  },
  "cells": [
    {
      "cell_type": "markdown",
      "source": [
        "**IMPORTING PACKAGES**"
      ],
      "metadata": {
        "id": "QUx2-TDnm1P3"
      }
    },
    {
      "cell_type": "code",
      "execution_count": null,
      "metadata": {
        "id": "9gocCo6fIX6H"
      },
      "outputs": [],
      "source": [
        "!pip install pandas mlxtend"
      ]
    },
    {
      "cell_type": "code",
      "source": [
        "# Import libraries\n",
        "import pandas as pd\n",
        "from mlxtend.frequent_patterns import apriori, association_rules"
      ],
      "metadata": {
        "id": "-PnfSAyDJMBM"
      },
      "execution_count": 3,
      "outputs": []
    },
    {
      "cell_type": "markdown",
      "source": [
        "**LOADING DATA**"
      ],
      "metadata": {
        "id": "epKETGbVm-dW"
      }
    },
    {
      "cell_type": "code",
      "source": [
        "file_name = 'Autopro.csv'"
      ],
      "metadata": {
        "id": "_8PRu9FfNACl"
      },
      "execution_count": null,
      "outputs": []
    },
    {
      "cell_type": "code",
      "source": [
        "df = pd.read_csv(file_name)\n"
      ],
      "metadata": {
        "id": "SMtpSbaiNSxg"
      },
      "execution_count": null,
      "outputs": []
    },
    {
      "cell_type": "code",
      "source": [
        "df.head()"
      ],
      "metadata": {
        "id": "i8h_JwGdNfUE"
      },
      "execution_count": null,
      "outputs": []
    },
    {
      "cell_type": "markdown",
      "source": [
        "**DATA PREPARATION**"
      ],
      "metadata": {
        "id": "Q0-MW_n8nKFR"
      }
    },
    {
      "cell_type": "code",
      "source": [
        "# Filter data for successful transactions\n",
        "transactions = df[df['STATUS'].isin(['Shipped', 'Resolved'])]\n"
      ],
      "metadata": {
        "id": "FXc8pR7IQeq7"
      },
      "execution_count": null,
      "outputs": []
    },
    {
      "cell_type": "code",
      "source": [
        "print(transactions)"
      ],
      "metadata": {
        "id": "y6v81bmsbvNN"
      },
      "execution_count": null,
      "outputs": []
    },
    {
      "cell_type": "code",
      "source": [
        "# Remove trailing spaces from the PRODUCTLINE column\n",
        "transactions['PRODUCTLINE'] = transactions['PRODUCTLINE'].str.rstrip()\n",
        "\n",
        "# Print the updated DataFrame\n",
        "print(transactions)\n"
      ],
      "metadata": {
        "id": "-l_KMKxfc6lI"
      },
      "execution_count": null,
      "outputs": []
    },
    {
      "cell_type": "code",
      "source": [
        "# Drop null values from the DataFrame\n",
        "transactions = transactions.dropna()\n",
        "\n",
        "# Remove duplicate transactions\n",
        "transactions = transactions.drop_duplicates()\n"
      ],
      "metadata": {
        "id": "f72tEGP3dbQ8"
      },
      "execution_count": null,
      "outputs": []
    },
    {
      "cell_type": "code",
      "source": [
        "# Group the transactions by ORDERNUMBER and PRODUCTLINE and sum the QUANTITY column\n",
        "transaction_basket = transactions.groupby(['ORDERNUMBER', 'PRODUCTLINE'])['QUANTITYORDERED'].sum().unstack().reset_index().fillna(0).set_index('ORDERNUMBER')\n",
        "\n",
        "# Convert the transaction basket to a boolean array\n",
        "transaction_basket = transaction_basket.astype(bool)\n",
        "transaction_basket = transaction_basket.astype(bool)\n",
        "\n",
        "# Print the transaction basket\n",
        "print(transaction_basket)\n"
      ],
      "metadata": {
        "id": "MRAZBQFVejX6"
      },
      "execution_count": null,
      "outputs": []
    },
    {
      "cell_type": "code",
      "source": [
        "# Encode the transaction basket using one-hot encoding\n",
        "encoded_vals = []\n",
        "for col in transaction_basket.columns:\n",
        "  encoded_vals.append(transaction_basket[col].astype('int'))\n",
        "\n",
        "# Create a new DataFrame with the encoded values\n",
        "encoded_df = pd.DataFrame(encoded_vals).T\n",
        "encoded_df.columns = transaction_basket.columns\n"
      ],
      "metadata": {
        "colab": {
          "base_uri": "https://localhost:8080/"
        },
        "id": "f_mzgTMvejS-",
        "outputId": "b123392e-07c2-4ff2-f9f4-c7c9fdb10fc1"
      },
      "execution_count": 26,
      "outputs": [
        {
          "output_type": "stream",
          "name": "stderr",
          "text": [
            "/usr/local/lib/python3.10/dist-packages/ipykernel/ipkernel.py:283: DeprecationWarning: `should_run_async` will not call `transform_cell` automatically in the future. Please pass the result to `transformed_cell` argument and any exception that happen during thetransform in `preprocessing_exc_tuple` in IPython 7.17 and above.\n",
            "  and should_run_async(code)\n"
          ]
        }
      ]
    },
    {
      "cell_type": "code",
      "source": [
        "# prompt: view the results of the new dataframe\n",
        "\n",
        "# Print the encoded DataFrame\n",
        "print(encoded_df)\n"
      ],
      "metadata": {
        "id": "wGZqjDerhBtK"
      },
      "execution_count": null,
      "outputs": []
    },
    {
      "cell_type": "markdown",
      "source": [
        "**TRAINING MODEL**"
      ],
      "metadata": {
        "id": "j6gqM3lUhgQW"
      }
    },
    {
      "cell_type": "code",
      "source": [
        "# Generate frequent itemsets with a minimum support of 0.05\n",
        "frequent_itemsets = apriori(encoded_df, min_support=0.05, use_colnames=True)\n",
        "\n",
        "# Print the frequent itemsets\n",
        "print(frequent_itemsets)\n"
      ],
      "metadata": {
        "id": "0OCc9zG-hktK"
      },
      "execution_count": null,
      "outputs": []
    },
    {
      "source": [
        "# Generate association rules with a minimum confidence of 0.5 and lift of 1.5\n",
        "rules = association_rules(frequent_itemsets, metric=\"confidence\", min_threshold=0.5)\n",
        "\n",
        "# Print the association rules\n",
        "print(rules)"
      ],
      "cell_type": "code",
      "metadata": {
        "id": "okoXIX4cj3XU"
      },
      "execution_count": null,
      "outputs": []
    },
    {
      "cell_type": "markdown",
      "source": [
        "**RECOMMENDATION**"
      ],
      "metadata": {
        "id": "s5I2xeUVkR3M"
      }
    },
    {
      "source": [
        "# @title Default title text\n",
        "# Sort the rules by lift in descending order\n",
        "sorted_rules = rules.sort_values('lift', ascending=False)\n",
        "\n",
        "# Print the top 10 rules with the highest lift\n",
        "print(sorted_rules.head(10))\n",
        "\n",
        "# Get the antecedents and consequents of the top 10 rules\n",
        "antecedents = [list(antecedent)[0] for antecedent in sorted_rules['antecedents'].tolist()]\n",
        "consequents = [list(consequent)[0] for consequent in sorted_rules['consequents'].tolist()]\n",
        "\n",
        "# Create a list of recommendations\n",
        "recommendations = []\n",
        "for i in range(len(antecedents)):\n",
        "  antecedent = antecedents[i]\n",
        "  consequent = consequents[i]\n",
        "  recommendation = f\"If a customer buys {antecedent}, they are likely to also buy {consequent}.\"\n",
        "  recommendations.append(recommendation)\n",
        "\n",
        "# Print the recommendations\n",
        "for recommendation in recommendations:\n",
        "  print(recommendation)"
      ],
      "cell_type": "code",
      "metadata": {
        "colab": {
          "base_uri": "https://localhost:8080/"
        },
        "id": "e9mI9aCTmAzf",
        "outputId": "53eacbdf-b6a3-4c79-84c7-db7f8da390fe"
      },
      "execution_count": 27,
      "outputs": [
        {
          "output_type": "stream",
          "name": "stdout",
          "text": [
            "                         antecedents         consequents  antecedent support  \\\n",
            "9        (Vintage Cars, Motorcycles)            (Planes)            0.065217   \n",
            "13            (Vintage Cars, Trains)             (Ships)            0.086957   \n",
            "7             (Classic Cars, Trains)  (Trucks and Buses)            0.105072   \n",
            "11            (Vintage Cars, Planes)             (Ships)            0.155797   \n",
            "14                   (Ships, Trains)      (Vintage Cars)            0.076087   \n",
            "6         (Trucks and Buses, Trains)      (Classic Cars)            0.072464   \n",
            "1                 (Trucks and Buses)      (Classic Cars)            0.228261   \n",
            "12                   (Ships, Planes)      (Vintage Cars)            0.090580   \n",
            "3                            (Ships)      (Vintage Cars)            0.210145   \n",
            "8   (Vintage Cars, Trucks and Buses)      (Classic Cars)            0.119565   \n",
            "\n",
            "    consequent support   support  confidence      lift  leverage  conviction  \\\n",
            "9             0.195652  0.054348    0.833333  4.259259  0.041588    4.826087   \n",
            "13            0.210145  0.076087    0.875000  4.163793  0.057813    6.318841   \n",
            "7             0.228261  0.065217    0.620690  2.719212  0.041233    2.034585   \n",
            "11            0.210145  0.083333    0.534884  2.545309  0.050593    1.698188   \n",
            "14            0.568841  0.076087    1.000000  1.757962  0.032806         inf   \n",
            "6             0.521739  0.065217    0.900000  1.725000  0.027410    4.782609   \n",
            "1             0.521739  0.199275    0.873016  1.673280  0.080183    3.766304   \n",
            "12            0.568841  0.083333    0.920000  1.617325  0.031808    5.389493   \n",
            "3             0.568841  0.192029    0.913793  1.606413  0.072490    5.001449   \n",
            "8             0.521739  0.094203    0.787879  1.510101  0.031821    2.254658   \n",
            "\n",
            "    zhangs_metric  \n",
            "9        0.818605  \n",
            "13       0.832200  \n",
            "7        0.706478  \n",
            "11       0.719164  \n",
            "14       0.466667  \n",
            "6        0.453125  \n",
            "1        0.521383  \n",
            "12       0.419712  \n",
            "3        0.477930  \n",
            "8        0.383666  \n",
            "If a customer buys Vintage Cars, they are likely to also buy Planes.\n",
            "If a customer buys Vintage Cars, they are likely to also buy Ships.\n",
            "If a customer buys Classic Cars, they are likely to also buy Trucks and Buses.\n",
            "If a customer buys Vintage Cars, they are likely to also buy Ships.\n",
            "If a customer buys Ships, they are likely to also buy Vintage Cars.\n",
            "If a customer buys Trucks and Buses, they are likely to also buy Classic Cars.\n",
            "If a customer buys Trucks and Buses, they are likely to also buy Classic Cars.\n",
            "If a customer buys Ships, they are likely to also buy Vintage Cars.\n",
            "If a customer buys Ships, they are likely to also buy Vintage Cars.\n",
            "If a customer buys Vintage Cars, they are likely to also buy Classic Cars.\n",
            "If a customer buys Planes, they are likely to also buy Vintage Cars.\n",
            "If a customer buys Trains, they are likely to also buy Classic Cars.\n",
            "If a customer buys Motorcycles, they are likely to also buy Vintage Cars.\n",
            "If a customer buys Trains, they are likely to also buy Vintage Cars.\n",
            "If a customer buys Trucks and Buses, they are likely to also buy Vintage Cars.\n"
          ]
        },
        {
          "output_type": "stream",
          "name": "stderr",
          "text": [
            "/usr/local/lib/python3.10/dist-packages/ipykernel/ipkernel.py:283: DeprecationWarning: `should_run_async` will not call `transform_cell` automatically in the future. Please pass the result to `transformed_cell` argument and any exception that happen during thetransform in `preprocessing_exc_tuple` in IPython 7.17 and above.\n",
            "  and should_run_async(code)\n"
          ]
        }
      ]
    }
  ]
}